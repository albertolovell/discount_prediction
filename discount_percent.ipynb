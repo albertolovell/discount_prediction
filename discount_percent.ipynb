{
 "cells": [
  {
   "cell_type": "markdown",
   "metadata": {},
   "source": [
    "## Alberto Lovell"
   ]
  },
  {
   "cell_type": "code",
   "execution_count": 43,
   "metadata": {},
   "outputs": [],
   "source": [
    "import numpy as np\n",
    "import pandas as pd\n",
    "import scipy.stats as scs\n",
    "import datetime as dt\n",
    "from sklearn.model_selection import train_test_split, GridSearchCV\n",
    "from sklearn import linear_model\n",
    "from sklearn.neighbors import KNeighborsRegressor\n",
    "from sklearn.ensemble import RandomForestRegressor, GradientBoostingRegressor\n",
    "from sklearn.naive_bayes import BernoulliNB\n",
    "from sklearn.metrics import mean_squared_error, mean_absolute_error\n",
    "import matplotlib.pyplot as plt\n",
    "import seaborn as sns"
   ]
  },
  {
   "cell_type": "markdown",
   "metadata": {},
   "source": [
    "## Purpose: "
   ]
  },
  {
   "cell_type": "markdown",
   "metadata": {},
   "source": [
    "The goal of this exercise is to design a model to predict discount percentages for newly encountered line items"
   ]
  },
  {
   "cell_type": "code",
   "execution_count": 45,
   "metadata": {},
   "outputs": [
    {
     "data": {
      "text/html": [
       "<div>\n",
       "<style scoped>\n",
       "    .dataframe tbody tr th:only-of-type {\n",
       "        vertical-align: middle;\n",
       "    }\n",
       "\n",
       "    .dataframe tbody tr th {\n",
       "        vertical-align: top;\n",
       "    }\n",
       "\n",
       "    .dataframe thead th {\n",
       "        text-align: right;\n",
       "    }\n",
       "</style>\n",
       "<table border=\"1\" class=\"dataframe\">\n",
       "  <thead>\n",
       "    <tr style=\"text-align: right;\">\n",
       "      <th></th>\n",
       "      <th>user_id</th>\n",
       "      <th>user_id_type</th>\n",
       "      <th>cart_id</th>\n",
       "      <th>date_modified</th>\n",
       "      <th>currency</th>\n",
       "      <th>unit_price</th>\n",
       "      <th>net_price</th>\n",
       "      <th>discountpercent</th>\n",
       "      <th>recurring_unit_price</th>\n",
       "      <th>recurring_net_price</th>\n",
       "      <th>recurring_discountpercent</th>\n",
       "      <th>quantity</th>\n",
       "      <th>product_system_id</th>\n",
       "      <th>deal_type</th>\n",
       "      <th>opportunity_region</th>\n",
       "      <th>opportunity_budget</th>\n",
       "      <th>contract_term</th>\n",
       "      <th>total_contract_value</th>\n",
       "      <th>deal_category</th>\n",
       "    </tr>\n",
       "  </thead>\n",
       "  <tbody>\n",
       "    <tr>\n",
       "      <th>0</th>\n",
       "      <td>525</td>\n",
       "      <td>8477949227256649820</td>\n",
       "      <td>525-1</td>\n",
       "      <td>02/22/2017 03:30:01.050000</td>\n",
       "      <td>GBP</td>\n",
       "      <td>0.0</td>\n",
       "      <td>0.0</td>\n",
       "      <td>0.0</td>\n",
       "      <td>0.000000</td>\n",
       "      <td>0.000000</td>\n",
       "      <td>0.0</td>\n",
       "      <td>78.0</td>\n",
       "      <td>1789161784535801413</td>\n",
       "      <td>Renewal</td>\n",
       "      <td>UK&amp;I</td>\n",
       "      <td>\"Less than 1</td>\n",
       "      <td>0.0</td>\n",
       "      <td>12</td>\n",
       "      <td>-1575416002466453954</td>\n",
       "    </tr>\n",
       "    <tr>\n",
       "      <th>1</th>\n",
       "      <td>525</td>\n",
       "      <td>8477949227256649820</td>\n",
       "      <td>525-1</td>\n",
       "      <td>02/22/2017 03:30:01.050000</td>\n",
       "      <td>GBP</td>\n",
       "      <td>0.0</td>\n",
       "      <td>0.0</td>\n",
       "      <td>0.0</td>\n",
       "      <td>6.923077</td>\n",
       "      <td>6.923077</td>\n",
       "      <td>0.0</td>\n",
       "      <td>78.0</td>\n",
       "      <td>-3388033280723878524</td>\n",
       "      <td>Renewal</td>\n",
       "      <td>UK&amp;I</td>\n",
       "      <td>\"Less than 1</td>\n",
       "      <td>0.0</td>\n",
       "      <td>12</td>\n",
       "      <td>-1575416002466453954</td>\n",
       "    </tr>\n",
       "    <tr>\n",
       "      <th>2</th>\n",
       "      <td>525</td>\n",
       "      <td>8477949227256649820</td>\n",
       "      <td>525-1</td>\n",
       "      <td>02/22/2017 03:30:01.050000</td>\n",
       "      <td>GBP</td>\n",
       "      <td>0.0</td>\n",
       "      <td>0.0</td>\n",
       "      <td>0.0</td>\n",
       "      <td>0.000000</td>\n",
       "      <td>0.000000</td>\n",
       "      <td>0.0</td>\n",
       "      <td>8.0</td>\n",
       "      <td>-9130972624394922538</td>\n",
       "      <td>Renewal</td>\n",
       "      <td>UK&amp;I</td>\n",
       "      <td>\"Less than 1</td>\n",
       "      <td>0.0</td>\n",
       "      <td>12</td>\n",
       "      <td>-1575416002466453954</td>\n",
       "    </tr>\n",
       "    <tr>\n",
       "      <th>3</th>\n",
       "      <td>525</td>\n",
       "      <td>8477949227256649820</td>\n",
       "      <td>525-1</td>\n",
       "      <td>02/22/2017 03:30:01.050000</td>\n",
       "      <td>GBP</td>\n",
       "      <td>0.0</td>\n",
       "      <td>0.0</td>\n",
       "      <td>0.0</td>\n",
       "      <td>187.500000</td>\n",
       "      <td>187.500000</td>\n",
       "      <td>0.0</td>\n",
       "      <td>8.0</td>\n",
       "      <td>2739638421988212911</td>\n",
       "      <td>Renewal</td>\n",
       "      <td>UK&amp;I</td>\n",
       "      <td>\"Less than 1</td>\n",
       "      <td>0.0</td>\n",
       "      <td>12</td>\n",
       "      <td>-1575416002466453954</td>\n",
       "    </tr>\n",
       "    <tr>\n",
       "      <th>4</th>\n",
       "      <td>525</td>\n",
       "      <td>8477949227256649820</td>\n",
       "      <td>525-1</td>\n",
       "      <td>02/22/2017 03:30:01.050000</td>\n",
       "      <td>GBP</td>\n",
       "      <td>0.0</td>\n",
       "      <td>0.0</td>\n",
       "      <td>0.0</td>\n",
       "      <td>0.000000</td>\n",
       "      <td>0.000000</td>\n",
       "      <td>0.0</td>\n",
       "      <td>8.0</td>\n",
       "      <td>-6185560453609870674</td>\n",
       "      <td>Renewal</td>\n",
       "      <td>UK&amp;I</td>\n",
       "      <td>\"Less than 1</td>\n",
       "      <td>0.0</td>\n",
       "      <td>12</td>\n",
       "      <td>-1575416002466453954</td>\n",
       "    </tr>\n",
       "  </tbody>\n",
       "</table>\n",
       "</div>"
      ],
      "text/plain": [
       "   user_id         user_id_type cart_id               date_modified currency  \\\n",
       "0      525  8477949227256649820   525-1  02/22/2017 03:30:01.050000      GBP   \n",
       "1      525  8477949227256649820   525-1  02/22/2017 03:30:01.050000      GBP   \n",
       "2      525  8477949227256649820   525-1  02/22/2017 03:30:01.050000      GBP   \n",
       "3      525  8477949227256649820   525-1  02/22/2017 03:30:01.050000      GBP   \n",
       "4      525  8477949227256649820   525-1  02/22/2017 03:30:01.050000      GBP   \n",
       "\n",
       "   unit_price  net_price  discountpercent  recurring_unit_price  \\\n",
       "0         0.0        0.0              0.0              0.000000   \n",
       "1         0.0        0.0              0.0              6.923077   \n",
       "2         0.0        0.0              0.0              0.000000   \n",
       "3         0.0        0.0              0.0            187.500000   \n",
       "4         0.0        0.0              0.0              0.000000   \n",
       "\n",
       "   recurring_net_price  recurring_discountpercent  quantity  \\\n",
       "0             0.000000                        0.0      78.0   \n",
       "1             6.923077                        0.0      78.0   \n",
       "2             0.000000                        0.0       8.0   \n",
       "3           187.500000                        0.0       8.0   \n",
       "4             0.000000                        0.0       8.0   \n",
       "\n",
       "     product_system_id deal_type opportunity_region opportunity_budget  \\\n",
       "0  1789161784535801413   Renewal               UK&I       \"Less than 1   \n",
       "1 -3388033280723878524   Renewal               UK&I       \"Less than 1   \n",
       "2 -9130972624394922538   Renewal               UK&I       \"Less than 1   \n",
       "3  2739638421988212911   Renewal               UK&I       \"Less than 1   \n",
       "4 -6185560453609870674   Renewal               UK&I       \"Less than 1   \n",
       "\n",
       "   contract_term total_contract_value        deal_category  \n",
       "0            0.0                   12 -1575416002466453954  \n",
       "1            0.0                   12 -1575416002466453954  \n",
       "2            0.0                   12 -1575416002466453954  \n",
       "3            0.0                   12 -1575416002466453954  \n",
       "4            0.0                   12 -1575416002466453954  "
      ]
     },
     "execution_count": 45,
     "metadata": {},
     "output_type": "execute_result"
    }
   ],
   "source": [
    "df = pd.read_csv('sales_data.csv')\n",
    "df.head()"
   ]
  },
  {
   "cell_type": "code",
   "execution_count": 195,
   "metadata": {},
   "outputs": [
    {
     "data": {
      "text/plain": [
       "count    131650.000000\n",
       "mean          0.323001\n",
       "std          19.124630\n",
       "min        -100.000000\n",
       "25%           0.000000\n",
       "50%           0.000000\n",
       "75%           0.000000\n",
       "max          99.990000\n",
       "Name: discountpercent, dtype: float64"
      ]
     },
     "execution_count": 195,
     "metadata": {},
     "output_type": "execute_result"
    }
   ],
   "source": [
    "df['discountpercent'].describe()"
   ]
  },
  {
   "cell_type": "markdown",
   "metadata": {},
   "source": [
    "Since our target unit is a percentage, I chose the standard deviation (19.12%) as the baseline performance metric. A well performing model will predict within the standard deviation"
   ]
  },
  {
   "cell_type": "code",
   "execution_count": 201,
   "metadata": {},
   "outputs": [
    {
     "data": {
      "image/png": "[encoded data removed]",
      "text/plain": [
       "<Figure size 432x288 with 1 Axes>"
      ]
     },
     "metadata": {},
     "output_type": "display_data"
    }
   ],
   "source": [
    "c = df['discountpercent'].values\n",
    "plt.hist(c, bins=25);"
   ]
  },
  {
   "cell_type": "markdown",
   "metadata": {},
   "source": [
    "Target data is highly imbalanced and shows a multi-class characteristic (-100, 0, 100), however since there are continuous values I decided to treat this as a regression and not classification"
   ]
  },
  {
   "cell_type": "markdown",
   "metadata": {},
   "source": [
    "## Exploratory Data Analysis"
   ]
  },
  {
   "cell_type": "code",
   "execution_count": 139,
   "metadata": {},
   "outputs": [
    {
     "name": "stdout",
     "output_type": "stream",
     "text": [
      "<class 'pandas.core.frame.DataFrame'>\n",
      "RangeIndex: 131883 entries, 0 to 131882\n",
      "Data columns (total 19 columns):\n",
      "user_id                      131883 non-null int64\n",
      "user_id_type                 131883 non-null int64\n",
      "cart_id                      131883 non-null object\n",
      "date_modified                131883 non-null object\n",
      "currency                     131883 non-null object\n",
      "unit_price                   131883 non-null float64\n",
      "net_price                    131883 non-null float64\n",
      "discountpercent              131883 non-null float64\n",
      "recurring_unit_price         131883 non-null float64\n",
      "recurring_net_price          131883 non-null float64\n",
      "recurring_discountpercent    131883 non-null float64\n",
      "quantity                     131883 non-null float64\n",
      "product_system_id            131883 non-null int64\n",
      "deal_type                    131883 non-null object\n",
      "opportunity_region           131883 non-null object\n",
      "opportunity_budget           131883 non-null object\n",
      "contract_term                131883 non-null float64\n",
      "total_contract_value         131883 non-null object\n",
      "deal_category                131883 non-null int64\n",
      "dtypes: float64(8), int64(4), object(7)\n",
      "memory usage: 19.1+ MB\n"
     ]
    }
   ],
   "source": [
    "df.info()"
   ]
  },
  {
   "cell_type": "code",
   "execution_count": 140,
   "metadata": {},
   "outputs": [
    {
     "data": {
      "text/html": [
       "<div>\n",
       "<style scoped>\n",
       "    .dataframe tbody tr th:only-of-type {\n",
       "        vertical-align: middle;\n",
       "    }\n",
       "\n",
       "    .dataframe tbody tr th {\n",
       "        vertical-align: top;\n",
       "    }\n",
       "\n",
       "    .dataframe thead th {\n",
       "        text-align: right;\n",
       "    }\n",
       "</style>\n",
       "<table border=\"1\" class=\"dataframe\">\n",
       "  <thead>\n",
       "    <tr style=\"text-align: right;\">\n",
       "      <th></th>\n",
       "      <th>user_id</th>\n",
       "      <th>user_id_type</th>\n",
       "      <th>unit_price</th>\n",
       "      <th>net_price</th>\n",
       "      <th>discountpercent</th>\n",
       "      <th>recurring_unit_price</th>\n",
       "      <th>recurring_net_price</th>\n",
       "      <th>recurring_discountpercent</th>\n",
       "      <th>quantity</th>\n",
       "      <th>product_system_id</th>\n",
       "      <th>contract_term</th>\n",
       "      <th>deal_category</th>\n",
       "    </tr>\n",
       "  </thead>\n",
       "  <tbody>\n",
       "    <tr>\n",
       "      <th>count</th>\n",
       "      <td>131883.000000</td>\n",
       "      <td>1.318830e+05</td>\n",
       "      <td>131883.000000</td>\n",
       "      <td>131883.000000</td>\n",
       "      <td>131883.000000</td>\n",
       "      <td>131883.000000</td>\n",
       "      <td>131883.000000</td>\n",
       "      <td>1.318830e+05</td>\n",
       "      <td>131883.000000</td>\n",
       "      <td>1.318830e+05</td>\n",
       "      <td>131883.000000</td>\n",
       "      <td>1.318830e+05</td>\n",
       "    </tr>\n",
       "    <tr>\n",
       "      <th>mean</th>\n",
       "      <td>1221.127204</td>\n",
       "      <td>-3.854135e+17</td>\n",
       "      <td>1.963710</td>\n",
       "      <td>1.326602</td>\n",
       "      <td>0.323806</td>\n",
       "      <td>58.786813</td>\n",
       "      <td>49.757162</td>\n",
       "      <td>-2.231985e+02</td>\n",
       "      <td>212.334433</td>\n",
       "      <td>-9.158149e+16</td>\n",
       "      <td>0.563313</td>\n",
       "      <td>-4.553766e+17</td>\n",
       "    </tr>\n",
       "    <tr>\n",
       "      <th>std</th>\n",
       "      <td>376.285154</td>\n",
       "      <td>6.064833e+18</td>\n",
       "      <td>8.641955</td>\n",
       "      <td>4.315969</td>\n",
       "      <td>19.111947</td>\n",
       "      <td>2353.348876</td>\n",
       "      <td>1941.070033</td>\n",
       "      <td>5.607483e+04</td>\n",
       "      <td>532.074494</td>\n",
       "      <td>4.800088e+18</td>\n",
       "      <td>3.484257</td>\n",
       "      <td>2.740637e+18</td>\n",
       "    </tr>\n",
       "    <tr>\n",
       "      <th>min</th>\n",
       "      <td>229.000000</td>\n",
       "      <td>-8.776407e+18</td>\n",
       "      <td>0.000000</td>\n",
       "      <td>0.000000</td>\n",
       "      <td>-100.000000</td>\n",
       "      <td>-1.000000</td>\n",
       "      <td>-1.000000</td>\n",
       "      <td>-1.977690e+07</td>\n",
       "      <td>0.350000</td>\n",
       "      <td>-9.172401e+18</td>\n",
       "      <td>0.000000</td>\n",
       "      <td>-8.390404e+18</td>\n",
       "    </tr>\n",
       "    <tr>\n",
       "      <th>25%</th>\n",
       "      <td>924.000000</td>\n",
       "      <td>-6.194651e+18</td>\n",
       "      <td>0.000000</td>\n",
       "      <td>0.000000</td>\n",
       "      <td>0.000000</td>\n",
       "      <td>0.000000</td>\n",
       "      <td>0.000000</td>\n",
       "      <td>0.000000e+00</td>\n",
       "      <td>1.000000</td>\n",
       "      <td>-3.482694e+18</td>\n",
       "      <td>0.000000</td>\n",
       "      <td>-1.575416e+18</td>\n",
       "    </tr>\n",
       "    <tr>\n",
       "      <th>50%</th>\n",
       "      <td>1287.000000</td>\n",
       "      <td>8.021775e+16</td>\n",
       "      <td>0.000000</td>\n",
       "      <td>0.000000</td>\n",
       "      <td>0.000000</td>\n",
       "      <td>0.000000</td>\n",
       "      <td>0.000000</td>\n",
       "      <td>0.000000e+00</td>\n",
       "      <td>1.000000</td>\n",
       "      <td>-5.642370e+17</td>\n",
       "      <td>0.000000</td>\n",
       "      <td>-1.575416e+18</td>\n",
       "    </tr>\n",
       "    <tr>\n",
       "      <th>75%</th>\n",
       "      <td>1436.000000</td>\n",
       "      <td>8.477949e+18</td>\n",
       "      <td>0.090000</td>\n",
       "      <td>0.050000</td>\n",
       "      <td>0.000000</td>\n",
       "      <td>0.000000</td>\n",
       "      <td>0.000000</td>\n",
       "      <td>0.000000e+00</td>\n",
       "      <td>100.000000</td>\n",
       "      <td>4.374357e+18</td>\n",
       "      <td>0.000000</td>\n",
       "      <td>2.540208e+18</td>\n",
       "    </tr>\n",
       "    <tr>\n",
       "      <th>max</th>\n",
       "      <td>2030.000000</td>\n",
       "      <td>8.844500e+18</td>\n",
       "      <td>213.766076</td>\n",
       "      <td>25.263157</td>\n",
       "      <td>99.990000</td>\n",
       "      <td>471867.760941</td>\n",
       "      <td>157289.253647</td>\n",
       "      <td>1.000000e+02</td>\n",
       "      <td>3032.000000</td>\n",
       "      <td>9.221542e+18</td>\n",
       "      <td>61.000000</td>\n",
       "      <td>8.412271e+18</td>\n",
       "    </tr>\n",
       "  </tbody>\n",
       "</table>\n",
       "</div>"
      ],
      "text/plain": [
       "             user_id  user_id_type     unit_price      net_price  \\\n",
       "count  131883.000000  1.318830e+05  131883.000000  131883.000000   \n",
       "mean     1221.127204 -3.854135e+17       1.963710       1.326602   \n",
       "std       376.285154  6.064833e+18       8.641955       4.315969   \n",
       "min       229.000000 -8.776407e+18       0.000000       0.000000   \n",
       "25%       924.000000 -6.194651e+18       0.000000       0.000000   \n",
       "50%      1287.000000  8.021775e+16       0.000000       0.000000   \n",
       "75%      1436.000000  8.477949e+18       0.090000       0.050000   \n",
       "max      2030.000000  8.844500e+18     213.766076      25.263157   \n",
       "\n",
       "       discountpercent  recurring_unit_price  recurring_net_price  \\\n",
       "count    131883.000000         131883.000000        131883.000000   \n",
       "mean          0.323806             58.786813            49.757162   \n",
       "std          19.111947           2353.348876          1941.070033   \n",
       "min        -100.000000             -1.000000            -1.000000   \n",
       "25%           0.000000              0.000000             0.000000   \n",
       "50%           0.000000              0.000000             0.000000   \n",
       "75%           0.000000              0.000000             0.000000   \n",
       "max          99.990000         471867.760941        157289.253647   \n",
       "\n",
       "       recurring_discountpercent       quantity  product_system_id  \\\n",
       "count               1.318830e+05  131883.000000       1.318830e+05   \n",
       "mean               -2.231985e+02     212.334433      -9.158149e+16   \n",
       "std                 5.607483e+04     532.074494       4.800088e+18   \n",
       "min                -1.977690e+07       0.350000      -9.172401e+18   \n",
       "25%                 0.000000e+00       1.000000      -3.482694e+18   \n",
       "50%                 0.000000e+00       1.000000      -5.642370e+17   \n",
       "75%                 0.000000e+00     100.000000       4.374357e+18   \n",
       "max                 1.000000e+02    3032.000000       9.221542e+18   \n",
       "\n",
       "       contract_term  deal_category  \n",
       "count  131883.000000   1.318830e+05  \n",
       "mean        0.563313  -4.553766e+17  \n",
       "std         3.484257   2.740637e+18  \n",
       "min         0.000000  -8.390404e+18  \n",
       "25%         0.000000  -1.575416e+18  \n",
       "50%         0.000000  -1.575416e+18  \n",
       "75%         0.000000   2.540208e+18  \n",
       "max        61.000000   8.412271e+18  "
      ]
     },
     "execution_count": 140,
     "metadata": {},
     "output_type": "execute_result"
    }
   ],
   "source": [
    "df.describe()"
   ]
  },
  {
   "cell_type": "code",
   "execution_count": 46,
   "metadata": {},
   "outputs": [
    {
     "data": {
      "text/plain": [
       "count    131883.000000\n",
       "mean       1221.127204\n",
       "std         376.285154\n",
       "min         229.000000\n",
       "25%         924.000000\n",
       "50%        1287.000000\n",
       "75%        1436.000000\n",
       "max        2030.000000\n",
       "Name: user_id, dtype: float64"
      ]
     },
     "execution_count": 46,
     "metadata": {},
     "output_type": "execute_result"
    }
   ],
   "source": [
    "df['user_id'].describe()"
   ]
  },
  {
   "cell_type": "code",
   "execution_count": 143,
   "metadata": {},
   "outputs": [
    {
     "data": {
      "text/plain": [
       "count     131883\n",
       "unique     23884\n",
       "top       1389-6\n",
       "freq         888\n",
       "Name: cart_id, dtype: object"
      ]
     },
     "execution_count": 143,
     "metadata": {},
     "output_type": "execute_result"
    }
   ],
   "source": [
    "df['cart_id'].describe()"
   ]
  },
  {
   "cell_type": "markdown",
   "metadata": {},
   "source": [
    "## Data Cleaning"
   ]
  },
  {
   "cell_type": "markdown",
   "metadata": {},
   "source": [
    "Cleaning and structuring data involved converting dataframe object columns into a usable format. This included stripping characters, converting to numeric values, converting categorical variables into dummy variables, converting datetime into ordinal numbers, replacing nan values where appropriate (using the mean in this case), and using t-tests to determine if line items could be dropped without significantly affecting the analysis."
   ]
  },
  {
   "cell_type": "code",
   "execution_count": 144,
   "metadata": {},
   "outputs": [],
   "source": [
    "#cart_id to float\n",
    "\n",
    "df['cart_id'] = df['cart_id'].str.replace('-','.')\n",
    "df['cart_id'] = df['cart_id'].astype(float)"
   ]
  },
  {
   "cell_type": "code",
   "execution_count": 145,
   "metadata": {},
   "outputs": [],
   "source": [
    "#to datetime then to ordinal for regression\n",
    "\n",
    "date = pd.to_datetime(df['date_modified'])\n",
    "df['date_modified'] = date\n",
    "df['date_modified'] = df['date_modified'].map(dt.datetime.toordinal)"
   ]
  },
  {
   "cell_type": "code",
   "execution_count": 147,
   "metadata": {},
   "outputs": [
    {
     "data": {
      "text/plain": [
       "array(['GBP', 'USD', 'EUR', 'AUD', 'NZD', 'SGD', 'CAD'], dtype=object)"
      ]
     },
     "execution_count": 147,
     "metadata": {},
     "output_type": "execute_result"
    }
   ],
   "source": [
    "df['currency'].unique()"
   ]
  },
  {
   "cell_type": "code",
   "execution_count": 148,
   "metadata": {},
   "outputs": [
    {
     "data": {
      "text/html": [
       "<div>\n",
       "<style scoped>\n",
       "    .dataframe tbody tr th:only-of-type {\n",
       "        vertical-align: middle;\n",
       "    }\n",
       "\n",
       "    .dataframe tbody tr th {\n",
       "        vertical-align: top;\n",
       "    }\n",
       "\n",
       "    .dataframe thead th {\n",
       "        text-align: right;\n",
       "    }\n",
       "</style>\n",
       "<table border=\"1\" class=\"dataframe\">\n",
       "  <thead>\n",
       "    <tr style=\"text-align: right;\">\n",
       "      <th></th>\n",
       "      <th>user_id</th>\n",
       "      <th>user_id_type</th>\n",
       "      <th>cart_id</th>\n",
       "      <th>date_modified</th>\n",
       "      <th>unit_price</th>\n",
       "      <th>net_price</th>\n",
       "      <th>discountpercent</th>\n",
       "      <th>recurring_unit_price</th>\n",
       "      <th>recurring_net_price</th>\n",
       "      <th>recurring_discountpercent</th>\n",
       "      <th>...</th>\n",
       "      <th>contract_term</th>\n",
       "      <th>total_contract_value</th>\n",
       "      <th>deal_category</th>\n",
       "      <th>AUD</th>\n",
       "      <th>CAD</th>\n",
       "      <th>EUR</th>\n",
       "      <th>GBP</th>\n",
       "      <th>NZD</th>\n",
       "      <th>SGD</th>\n",
       "      <th>USD</th>\n",
       "    </tr>\n",
       "  </thead>\n",
       "  <tbody>\n",
       "    <tr>\n",
       "      <th>0</th>\n",
       "      <td>525</td>\n",
       "      <td>8477949227256649820</td>\n",
       "      <td>525.1</td>\n",
       "      <td>736382</td>\n",
       "      <td>0.0</td>\n",
       "      <td>0.0</td>\n",
       "      <td>0.0</td>\n",
       "      <td>0.000000</td>\n",
       "      <td>0.000000</td>\n",
       "      <td>0.0</td>\n",
       "      <td>...</td>\n",
       "      <td>0.0</td>\n",
       "      <td>12</td>\n",
       "      <td>-1575416002466453954</td>\n",
       "      <td>0</td>\n",
       "      <td>0</td>\n",
       "      <td>0</td>\n",
       "      <td>1</td>\n",
       "      <td>0</td>\n",
       "      <td>0</td>\n",
       "      <td>0</td>\n",
       "    </tr>\n",
       "    <tr>\n",
       "      <th>1</th>\n",
       "      <td>525</td>\n",
       "      <td>8477949227256649820</td>\n",
       "      <td>525.1</td>\n",
       "      <td>736382</td>\n",
       "      <td>0.0</td>\n",
       "      <td>0.0</td>\n",
       "      <td>0.0</td>\n",
       "      <td>6.923077</td>\n",
       "      <td>6.923077</td>\n",
       "      <td>0.0</td>\n",
       "      <td>...</td>\n",
       "      <td>0.0</td>\n",
       "      <td>12</td>\n",
       "      <td>-1575416002466453954</td>\n",
       "      <td>0</td>\n",
       "      <td>0</td>\n",
       "      <td>0</td>\n",
       "      <td>1</td>\n",
       "      <td>0</td>\n",
       "      <td>0</td>\n",
       "      <td>0</td>\n",
       "    </tr>\n",
       "    <tr>\n",
       "      <th>2</th>\n",
       "      <td>525</td>\n",
       "      <td>8477949227256649820</td>\n",
       "      <td>525.1</td>\n",
       "      <td>736382</td>\n",
       "      <td>0.0</td>\n",
       "      <td>0.0</td>\n",
       "      <td>0.0</td>\n",
       "      <td>0.000000</td>\n",
       "      <td>0.000000</td>\n",
       "      <td>0.0</td>\n",
       "      <td>...</td>\n",
       "      <td>0.0</td>\n",
       "      <td>12</td>\n",
       "      <td>-1575416002466453954</td>\n",
       "      <td>0</td>\n",
       "      <td>0</td>\n",
       "      <td>0</td>\n",
       "      <td>1</td>\n",
       "      <td>0</td>\n",
       "      <td>0</td>\n",
       "      <td>0</td>\n",
       "    </tr>\n",
       "    <tr>\n",
       "      <th>3</th>\n",
       "      <td>525</td>\n",
       "      <td>8477949227256649820</td>\n",
       "      <td>525.1</td>\n",
       "      <td>736382</td>\n",
       "      <td>0.0</td>\n",
       "      <td>0.0</td>\n",
       "      <td>0.0</td>\n",
       "      <td>187.500000</td>\n",
       "      <td>187.500000</td>\n",
       "      <td>0.0</td>\n",
       "      <td>...</td>\n",
       "      <td>0.0</td>\n",
       "      <td>12</td>\n",
       "      <td>-1575416002466453954</td>\n",
       "      <td>0</td>\n",
       "      <td>0</td>\n",
       "      <td>0</td>\n",
       "      <td>1</td>\n",
       "      <td>0</td>\n",
       "      <td>0</td>\n",
       "      <td>0</td>\n",
       "    </tr>\n",
       "    <tr>\n",
       "      <th>4</th>\n",
       "      <td>525</td>\n",
       "      <td>8477949227256649820</td>\n",
       "      <td>525.1</td>\n",
       "      <td>736382</td>\n",
       "      <td>0.0</td>\n",
       "      <td>0.0</td>\n",
       "      <td>0.0</td>\n",
       "      <td>0.000000</td>\n",
       "      <td>0.000000</td>\n",
       "      <td>0.0</td>\n",
       "      <td>...</td>\n",
       "      <td>0.0</td>\n",
       "      <td>12</td>\n",
       "      <td>-1575416002466453954</td>\n",
       "      <td>0</td>\n",
       "      <td>0</td>\n",
       "      <td>0</td>\n",
       "      <td>1</td>\n",
       "      <td>0</td>\n",
       "      <td>0</td>\n",
       "      <td>0</td>\n",
       "    </tr>\n",
       "  </tbody>\n",
       "</table>\n",
       "<p>5 rows × 25 columns</p>\n",
       "</div>"
      ],
      "text/plain": [
       "   user_id         user_id_type  cart_id  date_modified  unit_price  \\\n",
       "0      525  8477949227256649820    525.1         736382         0.0   \n",
       "1      525  8477949227256649820    525.1         736382         0.0   \n",
       "2      525  8477949227256649820    525.1         736382         0.0   \n",
       "3      525  8477949227256649820    525.1         736382         0.0   \n",
       "4      525  8477949227256649820    525.1         736382         0.0   \n",
       "\n",
       "   net_price  discountpercent  recurring_unit_price  recurring_net_price  \\\n",
       "0        0.0              0.0              0.000000             0.000000   \n",
       "1        0.0              0.0              6.923077             6.923077   \n",
       "2        0.0              0.0              0.000000             0.000000   \n",
       "3        0.0              0.0            187.500000           187.500000   \n",
       "4        0.0              0.0              0.000000             0.000000   \n",
       "\n",
       "   recurring_discountpercent ...   contract_term  total_contract_value  \\\n",
       "0                        0.0 ...             0.0                    12   \n",
       "1                        0.0 ...             0.0                    12   \n",
       "2                        0.0 ...             0.0                    12   \n",
       "3                        0.0 ...             0.0                    12   \n",
       "4                        0.0 ...             0.0                    12   \n",
       "\n",
       "         deal_category AUD CAD  EUR GBP  NZD  SGD  USD  \n",
       "0 -1575416002466453954   0   0    0   1    0    0    0  \n",
       "1 -1575416002466453954   0   0    0   1    0    0    0  \n",
       "2 -1575416002466453954   0   0    0   1    0    0    0  \n",
       "3 -1575416002466453954   0   0    0   1    0    0    0  \n",
       "4 -1575416002466453954   0   0    0   1    0    0    0  \n",
       "\n",
       "[5 rows x 25 columns]"
      ]
     },
     "execution_count": 148,
     "metadata": {},
     "output_type": "execute_result"
    }
   ],
   "source": [
    "#dummies\n",
    "\n",
    "currency_dum = pd.get_dummies(df['currency'])\n",
    "df = pd.concat([df, currency_dum], axis=1)\n",
    "df = df.drop('currency', axis=1)\n",
    "df.head()"
   ]
  },
  {
   "cell_type": "code",
   "execution_count": 149,
   "metadata": {},
   "outputs": [
    {
     "data": {
      "text/plain": [
       "array(['Renewal', 'New From New', 'New From Existing', 'Credited'],\n",
       "      dtype=object)"
      ]
     },
     "execution_count": 149,
     "metadata": {},
     "output_type": "execute_result"
    }
   ],
   "source": [
    "df['deal_type'].unique()"
   ]
  },
  {
   "cell_type": "code",
   "execution_count": 150,
   "metadata": {},
   "outputs": [
    {
     "data": {
      "text/html": [
       "<div>\n",
       "<style scoped>\n",
       "    .dataframe tbody tr th:only-of-type {\n",
       "        vertical-align: middle;\n",
       "    }\n",
       "\n",
       "    .dataframe tbody tr th {\n",
       "        vertical-align: top;\n",
       "    }\n",
       "\n",
       "    .dataframe thead th {\n",
       "        text-align: right;\n",
       "    }\n",
       "</style>\n",
       "<table border=\"1\" class=\"dataframe\">\n",
       "  <thead>\n",
       "    <tr style=\"text-align: right;\">\n",
       "      <th></th>\n",
       "      <th>user_id</th>\n",
       "      <th>user_id_type</th>\n",
       "      <th>cart_id</th>\n",
       "      <th>date_modified</th>\n",
       "      <th>unit_price</th>\n",
       "      <th>net_price</th>\n",
       "      <th>discountpercent</th>\n",
       "      <th>recurring_unit_price</th>\n",
       "      <th>recurring_net_price</th>\n",
       "      <th>recurring_discountpercent</th>\n",
       "      <th>...</th>\n",
       "      <th>CAD</th>\n",
       "      <th>EUR</th>\n",
       "      <th>GBP</th>\n",
       "      <th>NZD</th>\n",
       "      <th>SGD</th>\n",
       "      <th>USD</th>\n",
       "      <th>Credited</th>\n",
       "      <th>New From Existing</th>\n",
       "      <th>New From New</th>\n",
       "      <th>Renewal</th>\n",
       "    </tr>\n",
       "  </thead>\n",
       "  <tbody>\n",
       "    <tr>\n",
       "      <th>0</th>\n",
       "      <td>525</td>\n",
       "      <td>8477949227256649820</td>\n",
       "      <td>525.1</td>\n",
       "      <td>736382</td>\n",
       "      <td>0.0</td>\n",
       "      <td>0.0</td>\n",
       "      <td>0.0</td>\n",
       "      <td>0.000000</td>\n",
       "      <td>0.000000</td>\n",
       "      <td>0.0</td>\n",
       "      <td>...</td>\n",
       "      <td>0</td>\n",
       "      <td>0</td>\n",
       "      <td>1</td>\n",
       "      <td>0</td>\n",
       "      <td>0</td>\n",
       "      <td>0</td>\n",
       "      <td>0</td>\n",
       "      <td>0</td>\n",
       "      <td>0</td>\n",
       "      <td>1</td>\n",
       "    </tr>\n",
       "    <tr>\n",
       "      <th>1</th>\n",
       "      <td>525</td>\n",
       "      <td>8477949227256649820</td>\n",
       "      <td>525.1</td>\n",
       "      <td>736382</td>\n",
       "      <td>0.0</td>\n",
       "      <td>0.0</td>\n",
       "      <td>0.0</td>\n",
       "      <td>6.923077</td>\n",
       "      <td>6.923077</td>\n",
       "      <td>0.0</td>\n",
       "      <td>...</td>\n",
       "      <td>0</td>\n",
       "      <td>0</td>\n",
       "      <td>1</td>\n",
       "      <td>0</td>\n",
       "      <td>0</td>\n",
       "      <td>0</td>\n",
       "      <td>0</td>\n",
       "      <td>0</td>\n",
       "      <td>0</td>\n",
       "      <td>1</td>\n",
       "    </tr>\n",
       "    <tr>\n",
       "      <th>2</th>\n",
       "      <td>525</td>\n",
       "      <td>8477949227256649820</td>\n",
       "      <td>525.1</td>\n",
       "      <td>736382</td>\n",
       "      <td>0.0</td>\n",
       "      <td>0.0</td>\n",
       "      <td>0.0</td>\n",
       "      <td>0.000000</td>\n",
       "      <td>0.000000</td>\n",
       "      <td>0.0</td>\n",
       "      <td>...</td>\n",
       "      <td>0</td>\n",
       "      <td>0</td>\n",
       "      <td>1</td>\n",
       "      <td>0</td>\n",
       "      <td>0</td>\n",
       "      <td>0</td>\n",
       "      <td>0</td>\n",
       "      <td>0</td>\n",
       "      <td>0</td>\n",
       "      <td>1</td>\n",
       "    </tr>\n",
       "    <tr>\n",
       "      <th>3</th>\n",
       "      <td>525</td>\n",
       "      <td>8477949227256649820</td>\n",
       "      <td>525.1</td>\n",
       "      <td>736382</td>\n",
       "      <td>0.0</td>\n",
       "      <td>0.0</td>\n",
       "      <td>0.0</td>\n",
       "      <td>187.500000</td>\n",
       "      <td>187.500000</td>\n",
       "      <td>0.0</td>\n",
       "      <td>...</td>\n",
       "      <td>0</td>\n",
       "      <td>0</td>\n",
       "      <td>1</td>\n",
       "      <td>0</td>\n",
       "      <td>0</td>\n",
       "      <td>0</td>\n",
       "      <td>0</td>\n",
       "      <td>0</td>\n",
       "      <td>0</td>\n",
       "      <td>1</td>\n",
       "    </tr>\n",
       "    <tr>\n",
       "      <th>4</th>\n",
       "      <td>525</td>\n",
       "      <td>8477949227256649820</td>\n",
       "      <td>525.1</td>\n",
       "      <td>736382</td>\n",
       "      <td>0.0</td>\n",
       "      <td>0.0</td>\n",
       "      <td>0.0</td>\n",
       "      <td>0.000000</td>\n",
       "      <td>0.000000</td>\n",
       "      <td>0.0</td>\n",
       "      <td>...</td>\n",
       "      <td>0</td>\n",
       "      <td>0</td>\n",
       "      <td>1</td>\n",
       "      <td>0</td>\n",
       "      <td>0</td>\n",
       "      <td>0</td>\n",
       "      <td>0</td>\n",
       "      <td>0</td>\n",
       "      <td>0</td>\n",
       "      <td>1</td>\n",
       "    </tr>\n",
       "  </tbody>\n",
       "</table>\n",
       "<p>5 rows × 28 columns</p>\n",
       "</div>"
      ],
      "text/plain": [
       "   user_id         user_id_type  cart_id  date_modified  unit_price  \\\n",
       "0      525  8477949227256649820    525.1         736382         0.0   \n",
       "1      525  8477949227256649820    525.1         736382         0.0   \n",
       "2      525  8477949227256649820    525.1         736382         0.0   \n",
       "3      525  8477949227256649820    525.1         736382         0.0   \n",
       "4      525  8477949227256649820    525.1         736382         0.0   \n",
       "\n",
       "   net_price  discountpercent  recurring_unit_price  recurring_net_price  \\\n",
       "0        0.0              0.0              0.000000             0.000000   \n",
       "1        0.0              0.0              6.923077             6.923077   \n",
       "2        0.0              0.0              0.000000             0.000000   \n",
       "3        0.0              0.0            187.500000           187.500000   \n",
       "4        0.0              0.0              0.000000             0.000000   \n",
       "\n",
       "   recurring_discountpercent   ...     CAD  EUR GBP NZD  SGD USD  Credited  \\\n",
       "0                        0.0   ...       0    0   1   0    0   0         0   \n",
       "1                        0.0   ...       0    0   1   0    0   0         0   \n",
       "2                        0.0   ...       0    0   1   0    0   0         0   \n",
       "3                        0.0   ...       0    0   1   0    0   0         0   \n",
       "4                        0.0   ...       0    0   1   0    0   0         0   \n",
       "\n",
       "   New From Existing  New From New  Renewal  \n",
       "0                  0             0        1  \n",
       "1                  0             0        1  \n",
       "2                  0             0        1  \n",
       "3                  0             0        1  \n",
       "4                  0             0        1  \n",
       "\n",
       "[5 rows x 28 columns]"
      ]
     },
     "execution_count": 150,
     "metadata": {},
     "output_type": "execute_result"
    }
   ],
   "source": [
    "#dummies\n",
    "\n",
    "dealtype_dum = pd.get_dummies(df['deal_type'])\n",
    "df = pd.concat([df, dealtype_dum], axis=1)\n",
    "df = df.drop('deal_type', axis=1)\n",
    "df.head()"
   ]
  },
  {
   "cell_type": "code",
   "execution_count": 151,
   "metadata": {},
   "outputs": [
    {
     "data": {
      "text/plain": [
       "array(['UK&I', 'North America', 'APAC', 'EMEA'], dtype=object)"
      ]
     },
     "execution_count": 151,
     "metadata": {},
     "output_type": "execute_result"
    }
   ],
   "source": [
    "df['opportunity_region'].unique()"
   ]
  },
  {
   "cell_type": "code",
   "execution_count": 152,
   "metadata": {},
   "outputs": [
    {
     "data": {
      "text/html": [
       "<div>\n",
       "<style scoped>\n",
       "    .dataframe tbody tr th:only-of-type {\n",
       "        vertical-align: middle;\n",
       "    }\n",
       "\n",
       "    .dataframe tbody tr th {\n",
       "        vertical-align: top;\n",
       "    }\n",
       "\n",
       "    .dataframe thead th {\n",
       "        text-align: right;\n",
       "    }\n",
       "</style>\n",
       "<table border=\"1\" class=\"dataframe\">\n",
       "  <thead>\n",
       "    <tr style=\"text-align: right;\">\n",
       "      <th></th>\n",
       "      <th>user_id</th>\n",
       "      <th>user_id_type</th>\n",
       "      <th>cart_id</th>\n",
       "      <th>date_modified</th>\n",
       "      <th>unit_price</th>\n",
       "      <th>net_price</th>\n",
       "      <th>discountpercent</th>\n",
       "      <th>recurring_unit_price</th>\n",
       "      <th>recurring_net_price</th>\n",
       "      <th>recurring_discountpercent</th>\n",
       "      <th>...</th>\n",
       "      <th>SGD</th>\n",
       "      <th>USD</th>\n",
       "      <th>Credited</th>\n",
       "      <th>New From Existing</th>\n",
       "      <th>New From New</th>\n",
       "      <th>Renewal</th>\n",
       "      <th>APAC</th>\n",
       "      <th>EMEA</th>\n",
       "      <th>North America</th>\n",
       "      <th>UK&amp;I</th>\n",
       "    </tr>\n",
       "  </thead>\n",
       "  <tbody>\n",
       "    <tr>\n",
       "      <th>0</th>\n",
       "      <td>525</td>\n",
       "      <td>8477949227256649820</td>\n",
       "      <td>525.1</td>\n",
       "      <td>736382</td>\n",
       "      <td>0.0</td>\n",
       "      <td>0.0</td>\n",
       "      <td>0.0</td>\n",
       "      <td>0.000000</td>\n",
       "      <td>0.000000</td>\n",
       "      <td>0.0</td>\n",
       "      <td>...</td>\n",
       "      <td>0</td>\n",
       "      <td>0</td>\n",
       "      <td>0</td>\n",
       "      <td>0</td>\n",
       "      <td>0</td>\n",
       "      <td>1</td>\n",
       "      <td>0</td>\n",
       "      <td>0</td>\n",
       "      <td>0</td>\n",
       "      <td>1</td>\n",
       "    </tr>\n",
       "    <tr>\n",
       "      <th>1</th>\n",
       "      <td>525</td>\n",
       "      <td>8477949227256649820</td>\n",
       "      <td>525.1</td>\n",
       "      <td>736382</td>\n",
       "      <td>0.0</td>\n",
       "      <td>0.0</td>\n",
       "      <td>0.0</td>\n",
       "      <td>6.923077</td>\n",
       "      <td>6.923077</td>\n",
       "      <td>0.0</td>\n",
       "      <td>...</td>\n",
       "      <td>0</td>\n",
       "      <td>0</td>\n",
       "      <td>0</td>\n",
       "      <td>0</td>\n",
       "      <td>0</td>\n",
       "      <td>1</td>\n",
       "      <td>0</td>\n",
       "      <td>0</td>\n",
       "      <td>0</td>\n",
       "      <td>1</td>\n",
       "    </tr>\n",
       "    <tr>\n",
       "      <th>2</th>\n",
       "      <td>525</td>\n",
       "      <td>8477949227256649820</td>\n",
       "      <td>525.1</td>\n",
       "      <td>736382</td>\n",
       "      <td>0.0</td>\n",
       "      <td>0.0</td>\n",
       "      <td>0.0</td>\n",
       "      <td>0.000000</td>\n",
       "      <td>0.000000</td>\n",
       "      <td>0.0</td>\n",
       "      <td>...</td>\n",
       "      <td>0</td>\n",
       "      <td>0</td>\n",
       "      <td>0</td>\n",
       "      <td>0</td>\n",
       "      <td>0</td>\n",
       "      <td>1</td>\n",
       "      <td>0</td>\n",
       "      <td>0</td>\n",
       "      <td>0</td>\n",
       "      <td>1</td>\n",
       "    </tr>\n",
       "    <tr>\n",
       "      <th>3</th>\n",
       "      <td>525</td>\n",
       "      <td>8477949227256649820</td>\n",
       "      <td>525.1</td>\n",
       "      <td>736382</td>\n",
       "      <td>0.0</td>\n",
       "      <td>0.0</td>\n",
       "      <td>0.0</td>\n",
       "      <td>187.500000</td>\n",
       "      <td>187.500000</td>\n",
       "      <td>0.0</td>\n",
       "      <td>...</td>\n",
       "      <td>0</td>\n",
       "      <td>0</td>\n",
       "      <td>0</td>\n",
       "      <td>0</td>\n",
       "      <td>0</td>\n",
       "      <td>1</td>\n",
       "      <td>0</td>\n",
       "      <td>0</td>\n",
       "      <td>0</td>\n",
       "      <td>1</td>\n",
       "    </tr>\n",
       "    <tr>\n",
       "      <th>4</th>\n",
       "      <td>525</td>\n",
       "      <td>8477949227256649820</td>\n",
       "      <td>525.1</td>\n",
       "      <td>736382</td>\n",
       "      <td>0.0</td>\n",
       "      <td>0.0</td>\n",
       "      <td>0.0</td>\n",
       "      <td>0.000000</td>\n",
       "      <td>0.000000</td>\n",
       "      <td>0.0</td>\n",
       "      <td>...</td>\n",
       "      <td>0</td>\n",
       "      <td>0</td>\n",
       "      <td>0</td>\n",
       "      <td>0</td>\n",
       "      <td>0</td>\n",
       "      <td>1</td>\n",
       "      <td>0</td>\n",
       "      <td>0</td>\n",
       "      <td>0</td>\n",
       "      <td>1</td>\n",
       "    </tr>\n",
       "  </tbody>\n",
       "</table>\n",
       "<p>5 rows × 31 columns</p>\n",
       "</div>"
      ],
      "text/plain": [
       "   user_id         user_id_type  cart_id  date_modified  unit_price  \\\n",
       "0      525  8477949227256649820    525.1         736382         0.0   \n",
       "1      525  8477949227256649820    525.1         736382         0.0   \n",
       "2      525  8477949227256649820    525.1         736382         0.0   \n",
       "3      525  8477949227256649820    525.1         736382         0.0   \n",
       "4      525  8477949227256649820    525.1         736382         0.0   \n",
       "\n",
       "   net_price  discountpercent  recurring_unit_price  recurring_net_price  \\\n",
       "0        0.0              0.0              0.000000             0.000000   \n",
       "1        0.0              0.0              6.923077             6.923077   \n",
       "2        0.0              0.0              0.000000             0.000000   \n",
       "3        0.0              0.0            187.500000           187.500000   \n",
       "4        0.0              0.0              0.000000             0.000000   \n",
       "\n",
       "   recurring_discountpercent  ...   SGD  USD Credited  New From Existing  \\\n",
       "0                        0.0  ...     0    0        0                  0   \n",
       "1                        0.0  ...     0    0        0                  0   \n",
       "2                        0.0  ...     0    0        0                  0   \n",
       "3                        0.0  ...     0    0        0                  0   \n",
       "4                        0.0  ...     0    0        0                  0   \n",
       "\n",
       "  New From New  Renewal  APAC  EMEA  North America  UK&I  \n",
       "0            0        1     0     0              0     1  \n",
       "1            0        1     0     0              0     1  \n",
       "2            0        1     0     0              0     1  \n",
       "3            0        1     0     0              0     1  \n",
       "4            0        1     0     0              0     1  \n",
       "\n",
       "[5 rows x 31 columns]"
      ]
     },
     "execution_count": 152,
     "metadata": {},
     "output_type": "execute_result"
    }
   ],
   "source": [
    "#dummies\n",
    "\n",
    "region_dum = pd.get_dummies(df['opportunity_region'])\n",
    "df = pd.concat([df, region_dum], axis=1)\n",
    "df = df.drop('opportunity_region', axis=1)\n",
    "df.head()"
   ]
  },
  {
   "cell_type": "code",
   "execution_count": 153,
   "metadata": {},
   "outputs": [
    {
     "data": {
      "text/plain": [
       "array(['\"Less than 1', '\"1', '\"50', '\"10', 'Client will not disclose',\n",
       "       '\"100', '\"Over 500', '136', '41', '100%', '\"Less than 100', '120',\n",
       "       '130', '12', '565\"', '156', '778\"', '71', '110', '97', '245\"',\n",
       "       '851', '96', '85', '287', '318', '010\"', '134', '47', '457\"',\n",
       "       '281\"', '555', '40', '330', '235\"', '129', '54', '492\"', '671\"',\n",
       "       '55', '880', '9', '356', '264\"', '154', '60', '204\"', '-', '028\"',\n",
       "       '218', '$1800', '407\"', '73', '507\"', '483', '28', '114', '143',\n",
       "       '119', '68', '50', '302', '74', '231', '116', '123', '326', '0',\n",
       "       '221', '2', '066\"', '379\"', '337', '\"Over 50', '094\"', '5', '15',\n",
       "       '217\"', '214', '32', '94', '44', '58', '51', '98', '180\"', '197\"',\n",
       "       '522', '91', '7', '3', '30', '462\"', '377', '213\"', '359', '92',\n",
       "       '097\"', '344', '\"5', '093\"', '239', '091\"'], dtype=object)"
      ]
     },
     "execution_count": 153,
     "metadata": {},
     "output_type": "execute_result"
    }
   ],
   "source": [
    "#t-test for dropping str values\n",
    "\n",
    "df['opportunity_budget'].unique()"
   ]
  },
  {
   "cell_type": "code",
   "execution_count": 154,
   "metadata": {},
   "outputs": [],
   "source": [
    "#determine if dropping vals from opportunity budget will affect total_contract_value mean\n",
    "\n",
    "df['total_contract_value'] = pd.to_numeric(df['total_contract_value'], errors='coerce')\n",
    "df['total_contract_value'].fillna(df['total_contract_value'].mean(), inplace=True)"
   ]
  },
  {
   "cell_type": "code",
   "execution_count": 155,
   "metadata": {},
   "outputs": [],
   "source": [
    "def ttest_by(vals, condition):\n",
    "    '''compute t-test on a column, grouped by whether data meets the condition\n",
    "    example condition: whether a column is null or not'''\n",
    "    vals1 = vals[condition]\n",
    "    vals2 = vals[-condition]\n",
    "    \n",
    "    return scs.ttest_ind(vals1, vals2)"
   ]
  },
  {
   "cell_type": "code",
   "execution_count": 156,
   "metadata": {},
   "outputs": [
    {
     "name": "stdout",
     "output_type": "stream",
     "text": [
      "for disclose: Ttest_indResult(statistic=55.61805349779364, pvalue=0.0)\n",
      "for less than 1: Ttest_indResult(statistic=59.9023607352017, pvalue=0.0)\n",
      "for less than 100: Ttest_indResult(statistic=16.212550813701768, pvalue=4.69059699937738e-59)\n",
      "for 100%: Ttest_indResult(statistic=-1.7486506453707413, pvalue=0.08035375266952366)\n",
      "for over 50: Ttest_indResult(statistic=-0.6481443710811049, pvalue=0.5168927061877604)\n",
      "for -: Ttest_indResult(statistic=15.54162270772587, pvalue=2.026967526019304e-54)\n",
      "for $1800: Ttest_indResult(statistic=-1.7269882816988563e-15, pvalue=0.9999999999999987)\n",
      "for Over 500: Ttest_indResult(statistic=nan, pvalue=nan)\n"
     ]
    }
   ],
   "source": [
    "print('for disclose: {}'.format(ttest_by(df.total_contract_value, df['opportunity_budget']=='Client will not disclose')))\n",
    "print('for less than 1: {}'.format(ttest_by(df.total_contract_value, df['opportunity_budget']=='\"Less than 1')))\n",
    "print('for less than 100: {}'.format(ttest_by(df.total_contract_value, df['opportunity_budget']=='\"Less than 100')))  \n",
    "print('for 100%: {}'.format(ttest_by(df.total_contract_value, df['opportunity_budget']=='100%'))) \n",
    "print('for over 50: {}'.format(ttest_by(df.total_contract_value, df['opportunity_budget']=='\"Over 50'))) \n",
    "print('for -: {}'.format(ttest_by(df.total_contract_value, df['opportunity_budget']=='-'))) \n",
    "print('for $1800: {}'.format(ttest_by(df.total_contract_value, df['opportunity_budget']=='$1800'))) \n",
    "print('for Over 500: {}'.format(ttest_by(df.total_contract_value, df['opportunity_budget']=='Over 500'))) "
   ]
  },
  {
   "cell_type": "markdown",
   "metadata": {},
   "source": [
    "Large p-vals for '100%', '$1800' and '\"over 50' so null hypothesis holds under 95% confidence that removing these values will not have a significant effect on the mean of total_contract_value"
   ]
  },
  {
   "cell_type": "code",
   "execution_count": 157,
   "metadata": {},
   "outputs": [],
   "source": [
    "df = df.drop(df[df.opportunity_budget == '100%'].index)\n",
    "df = df.drop(df[df.opportunity_budget == '\"Over 50'].index)\n",
    "df = df.drop(df[df.opportunity_budget == '$1800'].index)"
   ]
  },
  {
   "cell_type": "markdown",
   "metadata": {},
   "source": [
    "Remaining values were converted to either 1 or another appropriate variable"
   ]
  },
  {
   "cell_type": "code",
   "execution_count": 158,
   "metadata": {},
   "outputs": [
    {
     "data": {
      "text/plain": [
       "array(['1', '50', '10', '100', '500', '136', '41', '120', '130', '12',\n",
       "       '565', '156', '778', '71', '110', '97', '245', '851', '96', '85',\n",
       "       '287', '318', '010', '134', '47', '457', '281', '555', '40', '330',\n",
       "       '235', '129', '54', '492', '671', '55', '880', '9', '356', '264',\n",
       "       '154', '60', '204', '028', '218', '407', '73', '507', '483', '28',\n",
       "       '114', '143', '119', '68', '302', '74', '231', '116', '123', '326',\n",
       "       '0', '221', '2', '066', '379', '337', '094', '5', '15', '217',\n",
       "       '214', '32', '94', '44', '58', '51', '98', '180', '197', '522',\n",
       "       '91', '7', '3', '30', '462', '377', '213', '359', '92', '097',\n",
       "       '344', '093', '239', '091'], dtype=object)"
      ]
     },
     "execution_count": 158,
     "metadata": {},
     "output_type": "execute_result"
    }
   ],
   "source": [
    "df['opportunity_budget'] = df['opportunity_budget'].str.replace('\"','')\n",
    "df['opportunity_budget'] = df['opportunity_budget'].str.replace('Less than 1','1')\n",
    "df['opportunity_budget'] = df['opportunity_budget'].str.replace('Client will not disclose','1')\n",
    "df['opportunity_budget'] = df['opportunity_budget'].str.replace('Over 500','500')\n",
    "df['opportunity_budget'] = df['opportunity_budget'].str.replace('-','1')\n",
    "df['opportunity_budget'].unique()"
   ]
  },
  {
   "cell_type": "code",
   "execution_count": 159,
   "metadata": {},
   "outputs": [],
   "source": [
    "df['opportunity_budget'] = pd.to_numeric(df['opportunity_budget'], errors='coerce')"
   ]
  },
  {
   "cell_type": "code",
   "execution_count": 160,
   "metadata": {},
   "outputs": [
    {
     "name": "stdout",
     "output_type": "stream",
     "text": [
      "<class 'pandas.core.frame.DataFrame'>\n",
      "Int64Index: 131650 entries, 0 to 131882\n",
      "Data columns (total 31 columns):\n",
      "user_id                      131650 non-null int64\n",
      "user_id_type                 131650 non-null int64\n",
      "cart_id                      131650 non-null float64\n",
      "date_modified                131650 non-null int64\n",
      "unit_price                   131650 non-null float64\n",
      "net_price                    131650 non-null float64\n",
      "discountpercent              131650 non-null float64\n",
      "recurring_unit_price         131650 non-null float64\n",
      "recurring_net_price          131650 non-null float64\n",
      "recurring_discountpercent    131650 non-null float64\n",
      "quantity                     131650 non-null float64\n",
      "product_system_id            131650 non-null int64\n",
      "opportunity_budget           131650 non-null int64\n",
      "contract_term                131650 non-null float64\n",
      "total_contract_value         131650 non-null float64\n",
      "deal_category                131650 non-null int64\n",
      "AUD                          131650 non-null uint8\n",
      "CAD                          131650 non-null uint8\n",
      "EUR                          131650 non-null uint8\n",
      "GBP                          131650 non-null uint8\n",
      "NZD                          131650 non-null uint8\n",
      "SGD                          131650 non-null uint8\n",
      "USD                          131650 non-null uint8\n",
      "Credited                     131650 non-null uint8\n",
      "New From Existing            131650 non-null uint8\n",
      "New From New                 131650 non-null uint8\n",
      "Renewal                      131650 non-null uint8\n",
      "APAC                         131650 non-null uint8\n",
      "EMEA                         131650 non-null uint8\n",
      "North America                131650 non-null uint8\n",
      "UK&I                         131650 non-null uint8\n",
      "dtypes: float64(10), int64(6), uint8(15)\n",
      "memory usage: 19.0 MB\n"
     ]
    }
   ],
   "source": [
    "df.info()"
   ]
  },
  {
   "cell_type": "markdown",
   "metadata": {},
   "source": [
    "With data in a useable format it is now possible to test a simple linear regression model"
   ]
  },
  {
   "cell_type": "code",
   "execution_count": 161,
   "metadata": {},
   "outputs": [],
   "source": [
    "#df.to_csv('sales_data_numeric.csv', index=False)"
   ]
  },
  {
   "cell_type": "code",
   "execution_count": 47,
   "metadata": {},
   "outputs": [],
   "source": [
    "df1 = pd.read_csv('sales_data_numeric.csv')"
   ]
  },
  {
   "cell_type": "markdown",
   "metadata": {},
   "source": [
    "## Feature Selection"
   ]
  },
  {
   "cell_type": "markdown",
   "metadata": {},
   "source": [
    "Moving forward I used a correlation  matrix to find the most important features associated with discount price"
   ]
  },
  {
   "cell_type": "code",
   "execution_count": 3,
   "metadata": {},
   "outputs": [
    {
     "data": {
      "text/plain": [
       "<matplotlib.axes._subplots.AxesSubplot at 0x1a1b350780>"
      ]
     },
     "execution_count": 3,
     "metadata": {},
     "output_type": "execute_result"
    },
    {
     "data": {
      "image/png": "[encoded data removed]",
      "text/plain": [
       "<Figure size 1152x864 with 2 Axes>"
      ]
     },
     "metadata": {},
     "output_type": "display_data"
    }
   ],
   "source": [
    "features = df1.corr()\n",
    "f, ax = plt.subplots(figsize=(16, 12))\n",
    "sns.heatmap(features, vmax=0.7, square=True)"
   ]
  },
  {
   "cell_type": "code",
   "execution_count": 4,
   "metadata": {},
   "outputs": [
    {
     "data": {
      "text/plain": [
       "unit_price                   0.381883\n",
       "net_price                    0.121078\n",
       "Renewal                      0.087438\n",
       "UK&I                         0.057729\n",
       "GBP                          0.052946\n",
       "user_id_type                 0.037379\n",
       "quantity                     0.028346\n",
       "opportunity_budget           0.021339\n",
       "recurring_discountpercent    0.020895\n",
       "recurring_unit_price         0.011201\n",
       "product_system_id           -0.032999\n",
       "total_contract_value        -0.035565\n",
       "date_modified               -0.040714\n",
       "USD                         -0.046276\n",
       "North America               -0.046344\n",
       "deal_category               -0.067749\n",
       "cart_id                     -0.091977\n",
       "user_id                     -0.091978\n",
       "New From Existing           -0.122994\n",
       "Name: discountpercent, dtype: float64"
      ]
     },
     "execution_count": 4,
     "metadata": {},
     "output_type": "execute_result"
    }
   ],
   "source": [
    "#features with high correlation score\n",
    "most_pertinent = features['discountpercent'].sort_values(ascending=False)\n",
    "most_pertinent = most_pertinent[abs(most_pertinent) >= 0.008]\n",
    "most_pertinent = most_pertinent[most_pertinent.index != 'discountpercent']\n",
    "most_pertinent"
   ]
  },
  {
   "cell_type": "code",
   "execution_count": 5,
   "metadata": {},
   "outputs": [],
   "source": [
    "X = df1[most_pertinent.index]\n",
    "y = df1['discountpercent']"
   ]
  },
  {
   "cell_type": "markdown",
   "metadata": {},
   "source": [
    "I then split the data into a training set and a test set to prevent overfitting/underfitting"
   ]
  },
  {
   "cell_type": "code",
   "execution_count": 8,
   "metadata": {},
   "outputs": [],
   "source": [
    "X_train, X_test, y_train, y_test = train_test_split(X, y, test_size=0.2)"
   ]
  },
  {
   "cell_type": "markdown",
   "metadata": {},
   "source": [
    "## Linear Regression"
   ]
  },
  {
   "cell_type": "code",
   "execution_count": 9,
   "metadata": {},
   "outputs": [],
   "source": [
    "lm = linear_model.LinearRegression()"
   ]
  },
  {
   "cell_type": "code",
   "execution_count": 10,
   "metadata": {},
   "outputs": [],
   "source": [
    "model = lm.fit(X_train, y_train)\n",
    "lm_predictions = lm.predict(X_test)"
   ]
  },
  {
   "cell_type": "code",
   "execution_count": 42,
   "metadata": {},
   "outputs": [
    {
     "data": {
      "text/plain": [
       "Text(0,0.5,'Predictions')"
      ]
     },
     "execution_count": 42,
     "metadata": {},
     "output_type": "execute_result"
    },
    {
     "data": {
      "image/png": "[encoded data removed]",
      "text/plain": [
       "<Figure size 432x288 with 1 Axes>"
      ]
     },
     "metadata": {},
     "output_type": "display_data"
    }
   ],
   "source": [
    "plt.scatter(y_test, lm_predictions)\n",
    "plt.xlabel('True Values')\n",
    "plt.ylabel('Predictions')"
   ]
  },
  {
   "cell_type": "code",
   "execution_count": 12,
   "metadata": {},
   "outputs": [
    {
     "name": "stdout",
     "output_type": "stream",
     "text": [
      "359.6087621798575 5.830034020098198\n"
     ]
    }
   ],
   "source": [
    "linear_mse = mean_squared_error(y_test, lm_predictions)\n",
    "linear_mae = mean_absolute_error(y_test, lm_predictions)\n",
    "print(linear_mse, linear_mae)"
   ]
  },
  {
   "cell_type": "markdown",
   "metadata": {},
   "source": [
    "LinearRegression shows a very high mean squared error and mean absolute error several times above the standard deviation (.1912). As mentioned above, data shows a multi-class separation making linear regression a poor model for this dataset"
   ]
  },
  {
   "cell_type": "markdown",
   "metadata": {},
   "source": [
    "## K-Nearest Neighbors Regressor"
   ]
  },
  {
   "cell_type": "code",
   "execution_count": 13,
   "metadata": {},
   "outputs": [],
   "source": [
    "knn = KNeighborsRegressor()"
   ]
  },
  {
   "cell_type": "code",
   "execution_count": 14,
   "metadata": {},
   "outputs": [],
   "source": [
    "knn.fit(X_train, y_train)\n",
    "knn_predictions = knn.predict(X_test)"
   ]
  },
  {
   "cell_type": "code",
   "execution_count": 15,
   "metadata": {},
   "outputs": [
    {
     "name": "stdout",
     "output_type": "stream",
     "text": [
      "78.53694737034708 1.7569678693249906\n"
     ]
    }
   ],
   "source": [
    "knn_mse = mean_squared_error(y_test, knn_predictions)\n",
    "knn_mae = mean_absolute_error(y_test, knn_predictions)\n",
    "print(knn_mse, knn_mae)"
   ]
  },
  {
   "cell_type": "markdown",
   "metadata": {},
   "source": [
    "A KNN model performs slightly better than linear regression but still shows a mean absolute error well above the standard deviation (1.75 vs .1912)"
   ]
  },
  {
   "cell_type": "markdown",
   "metadata": {},
   "source": [
    "## Random Forest Regressor"
   ]
  },
  {
   "cell_type": "code",
   "execution_count": 16,
   "metadata": {},
   "outputs": [],
   "source": [
    "rf = RandomForestRegressor(random_state=23)"
   ]
  },
  {
   "cell_type": "code",
   "execution_count": 17,
   "metadata": {},
   "outputs": [
    {
     "name": "stderr",
     "output_type": "stream",
     "text": [
      "/Users/Beto/miniconda3/lib/python3.6/site-packages/sklearn/ensemble/forest.py:246: FutureWarning: The default value of n_estimators will change from 10 in version 0.20 to 100 in 0.22.\n",
      "  \"10 in version 0.20 to 100 in 0.22.\", FutureWarning)\n"
     ]
    }
   ],
   "source": [
    "rf.fit(X_train, y_train)\n",
    "rf_predictions = rf.predict(X_test)"
   ]
  },
  {
   "cell_type": "code",
   "execution_count": 18,
   "metadata": {},
   "outputs": [
    {
     "data": {
      "image/png": "[encoded data removed]",
      "text/plain": [
       "<Figure size 432x288 with 1 Axes>"
      ]
     },
     "metadata": {},
     "output_type": "display_data"
    }
   ],
   "source": [
    "importances = rf.feature_importances_\n",
    "sorted_feature_importance = sorted(zip(list(X_train), importances), reverse=True)\n",
    "indices = np.argsort(importances)\n",
    "plt.title('Feature Importances')\n",
    "plt.barh(range(len(indices)), importances[indices], color='b', align='center')\n",
    "plt.yticks(range(len(indices)), [sorted_feature_importance[i] for i in indices])\n",
    "plt.xlabel('Relative Importance')\n",
    "plt.show()"
   ]
  },
  {
   "cell_type": "code",
   "execution_count": 19,
   "metadata": {},
   "outputs": [
    {
     "name": "stdout",
     "output_type": "stream",
     "text": [
      "6.61186809040007 0.18490366909254238\n"
     ]
    }
   ],
   "source": [
    "rf_mse = mean_squared_error(y_test, rf_predictions)\n",
    "rf_mae = mean_absolute_error(y_test, rf_predictions)\n",
    "print(rf_mse, rf_mae)"
   ]
  },
  {
   "cell_type": "markdown",
   "metadata": {},
   "source": [
    "The RandomForest regressor performs slightly better than the standard deviation (.185 vs .1912), and the feature importance plot shows that user_id_type and user_id had a strong correlation to discount price"
   ]
  },
  {
   "cell_type": "markdown",
   "metadata": {},
   "source": [
    "## GridSearchCV"
   ]
  },
  {
   "cell_type": "code",
   "execution_count": 20,
   "metadata": {},
   "outputs": [],
   "source": [
    "param_grid = {'bootstrap': [True],\n",
    "                'max_depth': [80, 90],\n",
    "                'max_features': [2, 3],\n",
    "                'min_samples_leaf': [3, 4, 5],\n",
    "                'min_samples_split': [8, 10],\n",
    "                'n_estimators': [100, 200]}"
   ]
  },
  {
   "cell_type": "code",
   "execution_count": 21,
   "metadata": {},
   "outputs": [],
   "source": [
    "rfr = RandomForestRegressor()"
   ]
  },
  {
   "cell_type": "code",
   "execution_count": 22,
   "metadata": {},
   "outputs": [],
   "source": [
    "grid_search = GridSearchCV(estimator = rf, param_grid = param_grid, \n",
    "                          cv = 3, n_jobs = -1, verbose = 2)"
   ]
  },
  {
   "cell_type": "code",
   "execution_count": 23,
   "metadata": {},
   "outputs": [
    {
     "name": "stdout",
     "output_type": "stream",
     "text": [
      "Fitting 3 folds for each of 48 candidates, totalling 144 fits\n"
     ]
    },
    {
     "name": "stderr",
     "output_type": "stream",
     "text": [
      "[Parallel(n_jobs=-1)]: Using backend LokyBackend with 4 concurrent workers.\n",
      "[Parallel(n_jobs=-1)]: Done  33 tasks      | elapsed:  2.5min\n",
      "[Parallel(n_jobs=-1)]: Done 144 out of 144 | elapsed: 195.0min finished\n"
     ]
    },
    {
     "data": {
      "text/plain": [
       "GridSearchCV(cv=3, error_score='raise-deprecating',\n",
       "       estimator=RandomForestRegressor(bootstrap=True, criterion='mse', max_depth=None,\n",
       "           max_features='auto', max_leaf_nodes=None,\n",
       "           min_impurity_decrease=0.0, min_impurity_split=None,\n",
       "           min_samples_leaf=1, min_samples_split=2,\n",
       "           min_weight_fraction_leaf=0.0, n_estimators=10, n_jobs=None,\n",
       "           oob_score=False, random_state=23, verbose=0, warm_start=False),\n",
       "       fit_params=None, iid='warn', n_jobs=-1,\n",
       "       param_grid={'bootstrap': [True], 'max_depth': [80, 90], 'max_features': [2, 3], 'min_samples_leaf': [3, 4, 5], 'min_samples_split': [8, 10], 'n_estimators': [100, 200]},\n",
       "       pre_dispatch='2*n_jobs', refit=True, return_train_score='warn',\n",
       "       scoring=None, verbose=2)"
      ]
     },
     "execution_count": 23,
     "metadata": {},
     "output_type": "execute_result"
    }
   ],
   "source": [
    "grid_search.fit(X_train, y_train)"
   ]
  },
  {
   "cell_type": "code",
   "execution_count": 28,
   "metadata": {},
   "outputs": [
    {
     "data": {
      "text/plain": [
       "{'bootstrap': True,\n",
       " 'max_depth': 80,\n",
       " 'max_features': 3,\n",
       " 'min_samples_leaf': 3,\n",
       " 'min_samples_split': 8,\n",
       " 'n_estimators': 200}"
      ]
     },
     "execution_count": 28,
     "metadata": {},
     "output_type": "execute_result"
    }
   ],
   "source": [
    "best_grid = grid_search.best_estimator_\n",
    "grid_search.best_params_"
   ]
  },
  {
   "cell_type": "code",
   "execution_count": 40,
   "metadata": {},
   "outputs": [],
   "source": [
    "best_grid.fit(X_train, y_train)\n",
    "best_grid_predictions = best_grid.predict(X_test)"
   ]
  },
  {
   "cell_type": "code",
   "execution_count": 41,
   "metadata": {},
   "outputs": [
    {
     "name": "stdout",
     "output_type": "stream",
     "text": [
      "24.72886892176963 1.1540971883016837\n"
     ]
    }
   ],
   "source": [
    "best_grid_mse = mean_squared_error(y_test, best_grid_predictions)\n",
    "best_grid_mae = mean_absolute_error(y_test, best_grid_predictions)\n",
    "print(best_grid_mse, best_grid_mae)"
   ]
  },
  {
   "cell_type": "markdown",
   "metadata": {},
   "source": [
    "## Conclusion"
   ]
  },
  {
   "cell_type": "markdown",
   "metadata": {},
   "source": [
    "## The best performing model was the RandomForest regressor with a mean absolute error of .185 which performed slightly better than baseline."
   ]
  },
  {
   "cell_type": "markdown",
   "metadata": {},
   "source": [
    "Moving forward, tuning the RandomForest hyperparameters with a GridSearchCV will require more computational resources. A few other methods could also be used to fine tune this model. Imputing total_contract_value NaN values and opportunity_budget values by KNN could improve this prediction. Additionally, since over/undersampling the imbalanced target variable may yeild incorrect predictions, another method would be to implement a step-wise classification (0 or non-zero) and succesive regression (continuous value prediction). "
   ]
  },
  {
   "cell_type": "code",
   "execution_count": null,
   "metadata": {},
   "outputs": [],
   "source": []
  }
 ],
 "metadata": {
  "kernelspec": {
   "display_name": "Python 3",
   "language": "python",
   "name": "python3"
  },
  "language_info": {
   "codemirror_mode": {
    "name": "ipython",
    "version": 3
   },
   "file_extension": ".py",
   "mimetype": "text/x-python",
   "name": "python",
   "nbconvert_exporter": "python",
   "pygments_lexer": "ipython3",
   "version": "3.6.5"
  }
 },
 "nbformat": 4,
 "nbformat_minor": 2
}
